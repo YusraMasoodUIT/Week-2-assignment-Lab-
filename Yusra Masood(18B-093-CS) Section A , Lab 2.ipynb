{
 "cells": [
  {
   "cell_type": "markdown",
   "metadata": {},
   "source": [
    "# Lab # 2 (Flowcharts and Datatypes)"
   ]
  },
  {
   "cell_type": "markdown",
   "metadata": {},
   "source": [
    "# Q1"
   ]
  },
  {
   "cell_type": "code",
   "execution_count": 1,
   "metadata": {},
   "outputs": [
    {
     "name": "stdout",
     "output_type": "stream",
     "text": [
      "The Difference in number of days is 14\n"
     ]
    }
   ],
   "source": [
    "from datetime import date\n",
    "fdate=date(2018, 10,5 )\n",
    "ldate=date(2018,10,19)\n",
    "diff=ldate-fdate\n",
    "a = diff.days\n",
    "print(\"The Difference in number of days is \" + str(a))"
   ]
  },
  {
   "cell_type": "markdown",
   "metadata": {},
   "source": [
    "# Q2"
   ]
  },
  {
   "cell_type": "code",
   "execution_count": 2,
   "metadata": {},
   "outputs": [
    {
     "name": "stdout",
     "output_type": "stream",
     "text": [
      "Enter the length of the ladder 24\n",
      "Enter the angle the ladder makes with the wall 80\n",
      "The height of ladder is 23.63538607229299\n"
     ]
    }
   ],
   "source": [
    "from math import pi\n",
    "from math import sin\n",
    "len=int(input(\"Enter the length of the ladder \"))\n",
    "anglelad=int(input(\"Enter the angle the ladder makes with the wall \"))\n",
    "angrad= float(pi*(anglelad/180))\n",
    "height=len*(sin(angrad))\n",
    "print(\"The height of ladder is \" + str(height))"
   ]
  },
  {
   "cell_type": "markdown",
   "metadata": {},
   "source": [
    "# Q3"
   ]
  },
  {
   "cell_type": "code",
   "execution_count": 1,
   "metadata": {},
   "outputs": [
    {
     "name": "stdout",
     "output_type": "stream",
     "text": [
      "Index of the middle value is\n",
      "2\n",
      "The middle value is 4\n",
      "list in descending order is\n",
      "['9', '8', '7', '6', '5', '4', '3', '2', '1']\n",
      "list after removing and appending\n",
      "['8', '7', '6', '5', '4', '3', '2', '1', '9']\n"
     ]
    }
   ],
   "source": [
    "import math\n",
    "lst=['9','1','5','8','2','4','7','6','3']\n",
    "print(\"Index of the middle value is\")\n",
    "print(lst[4])\n",
    "a=len(lst)\n",
    "b=a/2\n",
    "c=math.ceil(b)\n",
    "print(\"The middle value is \" + str(lst[c]))\n",
    "lst.sort()\n",
    "lst.reverse()\n",
    "print(\"list in descending order is\")\n",
    "print(lst)\n",
    "lst.remove('9')\n",
    "lst.append('9')\n",
    "print(\"list after removing and appending\")\n",
    "print(lst)"
   ]
  },
  {
   "cell_type": "markdown",
   "metadata": {},
   "source": [
    "# Q4"
   ]
  },
  {
   "cell_type": "code",
   "execution_count": 2,
   "metadata": {},
   "outputs": [
    {
     "name": "stdout",
     "output_type": "stream",
     "text": [
      "After inserting April\n",
      "['Jan', 'Feb', 'Mar', 'April', 'May']\n",
      "After appending list\n",
      "['Jan', 'Feb', 'Mar', 'April', 'May', 'June']\n",
      "After pop operation\n",
      "['Jan', 'Feb', 'Mar', 'April', 'May']\n",
      "After removing February\n",
      "['Jan', 'Mar', 'April', 'May']\n",
      "In reverse order\n",
      "['May', 'April', 'Mar', 'Jan']\n",
      "After sorting\n",
      "['April', 'Jan', 'Mar', 'May']\n"
     ]
    }
   ],
   "source": [
    "monthL=['Jan','Feb','Mar','May']\n",
    "monthT=('Jan','Feb','Mar','May')\n",
    "monthL.insert(3,'April')\n",
    "print(\"After inserting April\")\n",
    "print(monthL)\n",
    "monthL.append('June')\n",
    "print(\"After appending list\")\n",
    "print(monthL)\n",
    "monthL.pop()\n",
    "print(\"After pop operation\")\n",
    "print(monthL)\n",
    "monthL.remove('Feb')\n",
    "print(\"After removing February\")\n",
    "print(monthL)\n",
    "monthL.reverse()\n",
    "print(\"In reverse order\")\n",
    "print(monthL)\n",
    "monthL.sort()\n",
    "print(\"After sorting\")\n",
    "print(monthL)"
   ]
  },
  {
   "cell_type": "markdown",
   "metadata": {},
   "source": [
    "# Q5"
   ]
  },
  {
   "cell_type": "code",
   "execution_count": 3,
   "metadata": {},
   "outputs": [
    {
     "data": {
      "text/plain": [
       "True"
      ]
     },
     "execution_count": 3,
     "metadata": {},
     "output_type": "execute_result"
    }
   ],
   "source": [
    "a='anachronistically'\n",
    "b=\"counterintuitive\"\n",
    "c=len(a)\n",
    "d=len(b)\n",
    "c==d+1"
   ]
  },
  {
   "cell_type": "code",
   "execution_count": 4,
   "metadata": {},
   "outputs": [
    {
     "data": {
      "text/plain": [
       "True"
      ]
     },
     "execution_count": 4,
     "metadata": {},
     "output_type": "execute_result"
    }
   ],
   "source": [
    "a=\"misinterpretation\"\n",
    "b=\"misrepresentation.\"\n",
    "c=a[3]\n",
    "d=b[3]\n",
    "c<d\n"
   ]
  },
  {
   "cell_type": "code",
   "execution_count": 5,
   "metadata": {},
   "outputs": [
    {
     "data": {
      "text/plain": [
       "False"
      ]
     },
     "execution_count": 5,
     "metadata": {},
     "output_type": "execute_result"
    }
   ],
   "source": [
    "a=\"floccinaucinihilipilification.\"\n",
    "'e' in a"
   ]
  },
  {
   "cell_type": "code",
   "execution_count": 6,
   "metadata": {},
   "outputs": [
    {
     "data": {
      "text/plain": [
       "True"
      ]
     },
     "execution_count": 6,
     "metadata": {},
     "output_type": "execute_result"
    }
   ],
   "source": [
    "a=\"counterrevolution\"\n",
    "b=\"counter\"\n",
    "c=\"resolution\"\n",
    "d=(b+c)\n",
    "len(a)==len(d)"
   ]
  },
  {
   "cell_type": "markdown",
   "metadata": {},
   "source": [
    "# Q6"
   ]
  },
  {
   "cell_type": "code",
   "execution_count": 7,
   "metadata": {},
   "outputs": [
    {
     "name": "stdout",
     "output_type": "stream",
     "text": [
      "6.5\n",
      "['paper', 'staples', 'pencil']\n",
      "John Fitzgerald Kennedy\n"
     ]
    }
   ],
   "source": [
    "a=6\n",
    "b=7\n",
    "c=float((a+b)/2)\n",
    "print(c)\n",
    "inventory=['paper','staples','pencil']\n",
    "print(inventory)\n",
    "first=\"John\"\n",
    "middle=\"Fitzgerald\"\n",
    "last=\"Kennedy\"\n",
    "fullname = (first + \" \"+ middle +\" \" + last)\n",
    "print(fullname)"
   ]
  },
  {
   "cell_type": "markdown",
   "metadata": {},
   "source": [
    "# Q7"
   ]
  },
  {
   "cell_type": "code",
   "execution_count": 8,
   "metadata": {},
   "outputs": [
    {
     "name": "stdout",
     "output_type": "stream",
     "text": [
      "Enter the x co-ordinate 7\n",
      "Enter the y-co-ordinate 8\n"
     ]
    },
    {
     "data": {
      "text/plain": [
       "False"
      ]
     },
     "execution_count": 8,
     "metadata": {},
     "output_type": "execute_result"
    }
   ],
   "source": [
    "import math\n",
    "x=int(input(\"Enter the x co-ordinate \"))\n",
    "y=int(input(\"Enter the y-co-ordinate \"))\n",
    "radius = 10\n",
    "dis = math.sqrt((x**2)+(y**2))\n",
    "dis<10"
   ]
  },
  {
   "cell_type": "code",
   "execution_count": null,
   "metadata": {},
   "outputs": [],
   "source": []
  }
 ],
 "metadata": {
  "kernelspec": {
   "display_name": "Python 3",
   "language": "python",
   "name": "python3"
  },
  "language_info": {
   "codemirror_mode": {
    "name": "ipython",
    "version": 3
   },
   "file_extension": ".py",
   "mimetype": "text/x-python",
   "name": "python",
   "nbconvert_exporter": "python",
   "pygments_lexer": "ipython3",
   "version": "3.7.0"
  }
 },
 "nbformat": 4,
 "nbformat_minor": 2
}
